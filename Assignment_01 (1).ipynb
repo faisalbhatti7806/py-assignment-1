{
  "nbformat": 4,
  "nbformat_minor": 0,
  "metadata": {
    "colab": {
      "provenance": []
    },
    "kernelspec": {
      "name": "python3",
      "display_name": "Python 3"
    },
    "language_info": {
      "name": "python"
    }
  },
  "cells": [
    {
      "cell_type": "markdown",
      "source": [
        "## Task 01:\n",
        "\n",
        "Print Your Name with your Father name and Date of birth using suitable escape sequence charactor\n",
        "\n"
      ],
      "metadata": {
        "id": "bb0O0xtk1v9t"
      }
    },
    {
      "cell_type": "code",
      "source": [
        "# Write your code here\n",
        "print(\"My Name Faisal Bhatti\")\n",
        "print(\"Father Name Bashir Ahmed\" )\n",
        "print(\"20-12-2002\" )"
      ],
      "metadata": {
        "id": "U7LLGIkO2Ixa",
        "outputId": "80618e52-33ff-4ff9-9c99-a1a86d4a3a44",
        "colab": {
          "base_uri": "https://localhost:8080/"
        }
      },
      "execution_count": null,
      "outputs": [
        {
          "output_type": "stream",
          "name": "stdout",
          "text": [
            "My Name Faisal Bhatti\n",
            "Father Name Bashir Ahmed\n",
            "20-12-2002\n"
          ]
        }
      ]
    },
    {
      "cell_type": "markdown",
      "source": [
        "# Task 02:\n",
        "\n",
        "Write your small bio using variables and print it using print function"
      ],
      "metadata": {
        "id": "TU-xwiLV2NgB"
      }
    },
    {
      "cell_type": "code",
      "source": [
        "# Write your code here\n",
        "a=\"My Name Faisal Bhatti\"\n",
        "b=\"I am learn to python course from Saylani Mass It Training Program\"\n",
        "print(a,b)"
      ],
      "metadata": {
        "id": "Dw8w3rwl2wDB",
        "outputId": "26fff474-9897-4ac2-ee67-11b20228790b",
        "colab": {
          "base_uri": "https://localhost:8080/"
        }
      },
      "execution_count": null,
      "outputs": [
        {
          "output_type": "stream",
          "name": "stdout",
          "text": [
            "My Name Faisal Bhatti I am learn to python course from Saylani Mass It Training Program\n"
          ]
        }
      ]
    },
    {
      "cell_type": "markdown",
      "source": [
        "# Task 03:\n",
        "\n",
        "Write a program in which use all the operators we can use in Python"
      ],
      "metadata": {
        "id": "F2lcZuDe2ztv"
      }
    },
    {
      "cell_type": "code",
      "source": [
        "# Write your code here\n",
        "# + Operator\n",
        "a=2\n",
        "b=8\n",
        "print(int(a)+ int(b))\n",
        "\n",
        "# - Operator\n",
        "c=12\n",
        "d=5\n",
        "print(c - d)\n",
        "\n",
        "# * Operator\n",
        "e=26\n",
        "f=5\n",
        "print(e * f)\n",
        "\n",
        "# / Operator\n",
        "g=20\n",
        "h=4\n",
        "print(g / h)\n"
      ],
      "metadata": {
        "id": "lEJhzsXh3e7K",
        "outputId": "f2dfbe1b-eb73-4977-e9dd-2139b84bd28a",
        "colab": {
          "base_uri": "https://localhost:8080/"
        }
      },
      "execution_count": null,
      "outputs": [
        {
          "output_type": "stream",
          "name": "stdout",
          "text": [
            "10\n",
            "7\n",
            "130\n",
            "5.0\n"
          ]
        }
      ]
    },
    {
      "cell_type": "markdown",
      "source": [
        "# Task 04:\n",
        "\n",
        "\n",
        "1. Mention Marks of English , Islamiat and Maths out of 100 in 3 different variables\n",
        "\n",
        "2. Mention Variable of Total Marks and assign 300 to it\n",
        "\n",
        "3. Calculate Percentage"
      ],
      "metadata": {
        "id": "i4N14TJU3l7n"
      }
    },
    {
      "cell_type": "code",
      "source": [
        "# Write your code here\n",
        "\n",
        "mark1=int(input(\"Enter Your Marks English \"))\n",
        "mark2=int(input(\"Enter Your Marks Islamiat \"))\n",
        "mark3=int(input(\"Enter Your Marks Math \"))\n",
        "total=mark1+mark2+mark3\n",
        "print(\"Total Marks\",total)\n",
        "total_marks=int(input(\"Enter Your Total Marks \"))\n",
        "percentage=(total/total_marks)*100\n",
        "print(\"Marks Percentage: {:.2f}%\".format(percentage))"
      ],
      "metadata": {
        "id": "nxojzvRg5PP4",
        "outputId": "3734726f-b46e-41f3-ebf9-787a71cefa49",
        "colab": {
          "base_uri": "https://localhost:8080/"
        }
      },
      "execution_count": null,
      "outputs": [
        {
          "output_type": "stream",
          "name": "stdout",
          "text": [
            "Enter Your Marks English 90\n",
            "Enter Your Marks Islamiat 59\n",
            "Enter Your Marks Math 81\n",
            "Total Marks 230\n",
            "Enter Your Total Marks 300\n",
            "Marks Percentage: 76.67%\n"
          ]
        }
      ]
    }
  ]
}